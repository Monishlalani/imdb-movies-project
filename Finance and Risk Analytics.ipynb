{
 "cells": [
  {
   "cell_type": "markdown",
   "id": "762ad0ae",
   "metadata": {},
   "source": [
    "Problem Statement:\n",
    "In the recent past, the industry of wealth management has seen a lot of growth. Every individual or business actively searches for opportunities to get the maximum returns. However, in most of the cases, they either lack the skills to identify the right investment opportunity, or there is a shortage of time for finding these opportunities. Hence, this gave rise to the dedicated individuals who perform this task on behalf of the investors for a commission - Portfolio managers. A portfolio manager makes investment decisions and carries out other related activities on behalf of vested investors. They work with a team of analysts and researchers, and their main objective is to realise the needs of the investor and suggest a suitable portfolio that meets all the expectations. They are responsible for establishing the best investment strategy, selecting appropriate investments along with the right allocation. However, in doing so, they face a lot of competition in the form of other portfolio managers and rival firms. Therefore, the portfolio manager has to use the available resources to provide the best solution to the investor. Consider ourselves working for an associate at an investment firm that manages accounts for private clients. Our role requires you to analyse a portfolio of stocks to provide consultation on investment management based on client’s requirement."
   ]
  },
  {
   "cell_type": "code",
   "execution_count": 1,
   "id": "fd96b171",
   "metadata": {},
   "outputs": [
    {
     "data": {
      "text/html": [
       "<style>.container { width:110% !important; }</style>"
      ],
      "text/plain": [
       "<IPython.core.display.HTML object>"
      ]
     },
     "metadata": {},
     "output_type": "display_data"
    }
   ],
   "source": [
    "#Importing required libraries:\n",
    "\n",
    "import numpy as np\n",
    "import pandas as pd\n",
    "import seaborn as sns\n",
    "import matplotlib.pyplot as plt\n",
    "\n",
    "#Utilising full display\n",
    "\n",
    "from IPython.display import display, HTML\n",
    "display(HTML(\"<style>.container { width:110% !important; }</style>\"))\n",
    "\n",
    "\n",
    "import warnings\n",
    "warnings.filterwarnings('ignore')\n",
    "\n",
    "from sklearn.preprocessing import MinMaxScaler\n",
    "\n",
    "#setting the jupyter view:\n",
    "\n",
    "pd.options.display.max_columns = None\n",
    "pd.options.display.max_rows = 10\n",
    "\n",
    "\n",
    "# Funtion to check data info(shape, size, head)\n",
    "\n",
    "def dekho(df,n=2, sample = False):\n",
    "    '''To check shape and first n rows of dataframe - \n",
    "    just for visualizing first few rows and shape/size of data (No significance in code) '''\n",
    "    print(df.shape, end=',\\t')\n",
    "    print([name for name in globals() if globals()[name] is df])\n",
    "    display(df.sample(n))      if sample==True       else        display(df.head(n))\n"
   ]
  },
  {
   "cell_type": "code",
   "execution_count": 12,
   "id": "c7e2d454",
   "metadata": {},
   "outputs": [],
   "source": [
    "#importing the datasets\n",
    "\n",
    "annexure = pd.read_csv(\"Annexure-I.csv\").dropna()\n",
    "\n",
    "# aviation stocks dataset\n",
    "american_airlines = pd.read_csv(\"AAL.csv\").dropna()\n",
    "american_airlines['Ticker'] = 'AAL'\n",
    "\n",
    "allegiant_travel = pd.read_csv(\"ALGT.csv\").dropna()\n",
    "allegiant_travel['Ticker'] = 'ALGT'\n",
    "\n",
    "alaska_air = pd.read_csv(\"ALk.csv\").dropna()\n",
    "alaska_air['Ticker'] = 'ALk'\n",
    "\n",
    "delta_airlines = pd.read_csv(\"DAL.csv\").dropna()\n",
    "delta_airlines['Ticker'] = 'DAL'\n",
    "\n",
    "hawaiian_holdings = pd.read_csv(\"HA.csv\").dropna()\n",
    "hawaiian_holdings['Ticker'] = 'HA'\n",
    "\n",
    "southwest_airlines = pd.read_csv(\"LUV.csv\").dropna()\n",
    "southwest_airlines['Ticker'] = 'LUV'\n",
    "\n",
    "# finance stocks dataset\n",
    "barclays = pd.read_csv(\"BCS.csv\").dropna()\n",
    "barclays['Ticker'] = 'BCS'\n",
    "\n",
    "credit_suisse = pd.read_csv(\"CS.csv\").dropna()\n",
    "credit_suisse['Ticker'] = 'CS'\n",
    "\n",
    "deutsche_bank = pd.read_csv(\"DB.csv\").dropna()\n",
    "deutsche_bank['Ticker'] = 'DB'\n",
    "\n",
    "goldman_sachs = pd.read_csv(\"GS.csv\").dropna()\n",
    "goldman_sachs['Ticker'] = 'GS'\n",
    "\n",
    "morgan_stanley = pd.read_csv(\"MS.csv\").dropna()\n",
    "morgan_stanley['Ticker'] = 'MS'\n",
    "\n",
    "wells_fargo = pd.read_csv(\"WFC.csv\").dropna()\n",
    "wells_fargo['Ticker'] = 'WFC'\n",
    "\n",
    "# healthcare stocks dataset\n",
    "johnson_and_johnson = pd.read_csv(\"JNJ.csv\").dropna()\n",
    "johnson_and_johnson['Ticker'] = 'JNJ'\n",
    "\n",
    "merck_and_co = pd.read_csv(\"MRK.csv\").dropna()\n",
    "merck_and_co['Ticker'] = 'MRK'\n",
    "\n",
    "pfizer = pd.read_csv(\"PFE.csv\").dropna()\n",
    "pfizer['Ticker'] = 'PFE'\n",
    "\n",
    "unitedhealthgroup = pd.read_csv(\"UNH.csv\").dropna()\n",
    "unitedhealthgroup['Ticker'] = 'UNH'\n",
    "\n",
    "# pharmaceutical stocks dataset\n",
    "bausch_health = pd.read_csv(\"BHC.csv\").dropna()\n",
    "bausch_health['Ticker'] = 'BHC'\n",
    "\n",
    "roche_holding = pd.read_csv(\"RHHBY.csv\").dropna()\n",
    "roche_holding['Ticker'] = 'RHHBY'\n",
    "\n",
    "# technology stocks dataset\n",
    "apple = pd.read_csv(\"AAPL.csv\").dropna()\n",
    "apple['Ticker'] = 'AAPL'\n",
    "\n",
    "amazon = pd.read_csv(\"AMZN.csv\").dropna()\n",
    "amazon['Ticker'] = 'AMZN'\n",
    "\n",
    "facebook = pd.read_csv(\"FB.csv\").dropna()\n",
    "facebook['Ticker'] = 'FB'\n",
    "\n",
    "alphabet = pd.read_csv(\"GOOG.csv\").dropna()\n",
    "alphabet['Ticker'] = 'GOOG'\n",
    "\n",
    "ibm = pd.read_csv(\"IBM.csv\").dropna()\n",
    "ibm['Ticker'] = 'IBM'\n",
    "\n",
    "microsoft = pd.read_csv(\"MSFT.csv\").dropna()\n",
    "microsoft['Ticker'] = 'MSFT'\n",
    "\n",
    "# s&p500 index\n",
    "sp500 = pd.read_csv(\"S&P500.csv\").dropna()\n",
    "sp500['Ticker'] = 'S&P500'\n",
    "\n"
   ]
  },
  {
   "cell_type": "code",
   "execution_count": 13,
   "id": "aa45b575",
   "metadata": {},
   "outputs": [
    {
     "name": "stdout",
     "output_type": "stream",
     "text": [
      "(63642, 8),\t['all_data']\n"
     ]
    },
    {
     "data": {
      "text/html": [
       "<div>\n",
       "<style scoped>\n",
       "    .dataframe tbody tr th:only-of-type {\n",
       "        vertical-align: middle;\n",
       "    }\n",
       "\n",
       "    .dataframe tbody tr th {\n",
       "        vertical-align: top;\n",
       "    }\n",
       "\n",
       "    .dataframe thead th {\n",
       "        text-align: right;\n",
       "    }\n",
       "</style>\n",
       "<table border=\"1\" class=\"dataframe\">\n",
       "  <thead>\n",
       "    <tr style=\"text-align: right;\">\n",
       "      <th></th>\n",
       "      <th>Date</th>\n",
       "      <th>Open</th>\n",
       "      <th>High</th>\n",
       "      <th>Low</th>\n",
       "      <th>Close</th>\n",
       "      <th>Adj Close</th>\n",
       "      <th>Volume</th>\n",
       "      <th>Ticker</th>\n",
       "    </tr>\n",
       "  </thead>\n",
       "  <tbody>\n",
       "    <tr>\n",
       "      <th>0</th>\n",
       "      <td>01-10-2010</td>\n",
       "      <td>9.29</td>\n",
       "      <td>9.39</td>\n",
       "      <td>9.21</td>\n",
       "      <td>9.29</td>\n",
       "      <td>8.758067</td>\n",
       "      <td>3603800.0</td>\n",
       "      <td>AAL</td>\n",
       "    </tr>\n",
       "    <tr>\n",
       "      <th>1</th>\n",
       "      <td>04-10-2010</td>\n",
       "      <td>9.24</td>\n",
       "      <td>9.48</td>\n",
       "      <td>9.05</td>\n",
       "      <td>9.12</td>\n",
       "      <td>8.597802</td>\n",
       "      <td>3856800.0</td>\n",
       "      <td>AAL</td>\n",
       "    </tr>\n",
       "  </tbody>\n",
       "</table>\n",
       "</div>"
      ],
      "text/plain": [
       "         Date  Open  High   Low  Close  Adj Close     Volume Ticker\n",
       "0  01-10-2010  9.29  9.39  9.21   9.29   8.758067  3603800.0    AAL\n",
       "1  04-10-2010  9.24  9.48  9.05   9.12   8.597802  3856800.0    AAL"
      ]
     },
     "metadata": {},
     "output_type": "display_data"
    }
   ],
   "source": [
    "# concatenating all datasets into one\n",
    "all_data = pd.concat([american_airlines, allegiant_travel, alaska_air, delta_airlines, hawaiian_holdings, southwest_airlines,\n",
    "                      barclays, credit_suisse, deutsche_bank, goldman_sachs, morgan_stanley, wells_fargo,\n",
    "                      johnson_and_johnson, merck_and_co, pfizer, unitedhealthgroup,\n",
    "                      bausch_health, roche_holding,\n",
    "                      apple, amazon, facebook, alphabet, ibm, microsoft, sp500], ignore_index=True)\n",
    "\n",
    "# displaying the concatenated dataframe\n",
    "dekho(all_data)"
   ]
  },
  {
   "cell_type": "code",
   "execution_count": 14,
   "id": "d6b84ed7",
   "metadata": {},
   "outputs": [],
   "source": [
    "# Merging all stocks data with annexure to get Industry and company name. \n",
    "\n",
    "stocks = pd.merge(all_data,annexure,on='Ticker',how ='left')"
   ]
  },
  {
   "cell_type": "code",
   "execution_count": 15,
   "id": "02012f1e",
   "metadata": {},
   "outputs": [
    {
     "data": {
      "text/plain": [
       "(63642, 10)"
      ]
     },
     "execution_count": 15,
     "metadata": {},
     "output_type": "execute_result"
    }
   ],
   "source": [
    "## 1. Understanding the Data\n",
    "\n",
    "# Checking shape:\n",
    "stocks.shape"
   ]
  },
  {
   "cell_type": "code",
   "execution_count": 16,
   "id": "12490ef1",
   "metadata": {},
   "outputs": [
    {
     "data": {
      "text/plain": [
       "Date               0\n",
       "Open               0\n",
       "High               0\n",
       "Low                0\n",
       "Close              0\n",
       "Adj Close          0\n",
       "Volume             0\n",
       "Ticker             0\n",
       "Industry        7551\n",
       "Company Name    7551\n",
       "dtype: int64"
      ]
     },
     "execution_count": 16,
     "metadata": {},
     "output_type": "execute_result"
    }
   ],
   "source": [
    "# Checking null values:\n",
    "stocks.isnull().sum()"
   ]
  },
  {
   "cell_type": "code",
   "execution_count": 17,
   "id": "982e7856",
   "metadata": {},
   "outputs": [
    {
     "data": {
      "text/plain": [
       "array(['ALk', 'UNH', 'S&P500'], dtype=object)"
      ]
     },
     "execution_count": 17,
     "metadata": {},
     "output_type": "execute_result"
    }
   ],
   "source": [
    "stocks[stocks['Industry'].isna()]['Ticker'].unique()  # Below are the reasons for the null values\n"
   ]
  },
  {
   "cell_type": "code",
   "execution_count": 18,
   "id": "12e1b5b8",
   "metadata": {},
   "outputs": [],
   "source": [
    "##### There are 7551 null present in Industry and company name because for following reasons:\n",
    "###### 1. Ticker name mistake ALk wich should be ALK.\n",
    "###### 2. There is extra space in \"UNH \" which should be \"UNH\".\n",
    "###### 3. Industry type of S&P500 is not available so replacing NA in ndustry & Company Name."
   ]
  },
  {
   "cell_type": "code",
   "execution_count": 19,
   "id": "69de2ec7",
   "metadata": {},
   "outputs": [
    {
     "data": {
      "text/plain": [
       "Date            0\n",
       "Open            0\n",
       "High            0\n",
       "Low             0\n",
       "Close           0\n",
       "Adj Close       0\n",
       "Volume          0\n",
       "Ticker          0\n",
       "Industry        0\n",
       "Company Name    0\n",
       "dtype: int64"
      ]
     },
     "execution_count": 19,
     "metadata": {},
     "output_type": "execute_result"
    }
   ],
   "source": [
    "stocks                   = pd.merge(all_data,annexure,on='Ticker',how ='left')\n",
    "stocks['Industry']       = stocks['Industry'].fillna('S&P500')\n",
    "stocks['Company Name']   = stocks['Company Name'].fillna('S&P500')\n",
    "\n",
    "\n",
    "stocks.isnull().sum()  # No null present\n"
   ]
  },
  {
   "cell_type": "code",
   "execution_count": 20,
   "id": "682e51f9",
   "metadata": {},
   "outputs": [
    {
     "name": "stdout",
     "output_type": "stream",
     "text": [
      "<class 'pandas.core.frame.DataFrame'>\n",
      "RangeIndex: 63642 entries, 0 to 63641\n",
      "Data columns (total 10 columns):\n",
      " #   Column        Non-Null Count  Dtype  \n",
      "---  ------        --------------  -----  \n",
      " 0   Date          63642 non-null  object \n",
      " 1   Open          63642 non-null  float64\n",
      " 2   High          63642 non-null  float64\n",
      " 3   Low           63642 non-null  float64\n",
      " 4   Close         63642 non-null  float64\n",
      " 5   Adj Close     63642 non-null  float64\n",
      " 6   Volume        63642 non-null  float64\n",
      " 7   Ticker        63642 non-null  object \n",
      " 8   Industry      63642 non-null  object \n",
      " 9   Company Name  63642 non-null  object \n",
      "dtypes: float64(6), object(4)\n",
      "memory usage: 4.9+ MB\n"
     ]
    }
   ],
   "source": [
    "# Checking the Merege dataset info\n",
    "stocks.info()"
   ]
  },
  {
   "cell_type": "code",
   "execution_count": 21,
   "id": "5cd00ddc",
   "metadata": {},
   "outputs": [
    {
     "data": {
      "text/plain": [
       "Date            0\n",
       "Open            0\n",
       "High            0\n",
       "Low             0\n",
       "Close           0\n",
       "Adj Close       0\n",
       "Volume          0\n",
       "Ticker          0\n",
       "Industry        0\n",
       "Company Name    0\n",
       "dtype: int64"
      ]
     },
     "execution_count": 21,
     "metadata": {},
     "output_type": "execute_result"
    }
   ],
   "source": [
    "# Checking null values:\n",
    "stocks.isnull().sum()"
   ]
  },
  {
   "cell_type": "code",
   "execution_count": 22,
   "id": "bd5779a7",
   "metadata": {},
   "outputs": [
    {
     "data": {
      "text/html": [
       "<div>\n",
       "<style scoped>\n",
       "    .dataframe tbody tr th:only-of-type {\n",
       "        vertical-align: middle;\n",
       "    }\n",
       "\n",
       "    .dataframe tbody tr th {\n",
       "        vertical-align: top;\n",
       "    }\n",
       "\n",
       "    .dataframe thead th {\n",
       "        text-align: right;\n",
       "    }\n",
       "</style>\n",
       "<table border=\"1\" class=\"dataframe\">\n",
       "  <thead>\n",
       "    <tr style=\"text-align: right;\">\n",
       "      <th></th>\n",
       "      <th>Open</th>\n",
       "      <th>High</th>\n",
       "      <th>Low</th>\n",
       "      <th>Close</th>\n",
       "      <th>Adj Close</th>\n",
       "      <th>Volume</th>\n",
       "    </tr>\n",
       "  </thead>\n",
       "  <tbody>\n",
       "    <tr>\n",
       "      <th>count</th>\n",
       "      <td>63642.000000</td>\n",
       "      <td>63642.000000</td>\n",
       "      <td>63642.000000</td>\n",
       "      <td>63642.000000</td>\n",
       "      <td>63642.000000</td>\n",
       "      <td>6.364200e+04</td>\n",
       "    </tr>\n",
       "    <tr>\n",
       "      <th>mean</th>\n",
       "      <td>202.625845</td>\n",
       "      <td>204.254030</td>\n",
       "      <td>200.894797</td>\n",
       "      <td>202.648121</td>\n",
       "      <td>197.820930</td>\n",
       "      <td>1.675777e+08</td>\n",
       "    </tr>\n",
       "    <tr>\n",
       "      <th>std</th>\n",
       "      <td>483.590630</td>\n",
       "      <td>486.680196</td>\n",
       "      <td>480.197251</td>\n",
       "      <td>483.649982</td>\n",
       "      <td>484.672290</td>\n",
       "      <td>7.484939e+08</td>\n",
       "    </tr>\n",
       "    <tr>\n",
       "      <th>min</th>\n",
       "      <td>3.450000</td>\n",
       "      <td>3.880000</td>\n",
       "      <td>3.410000</td>\n",
       "      <td>3.780000</td>\n",
       "      <td>3.642072</td>\n",
       "      <td>0.000000e+00</td>\n",
       "    </tr>\n",
       "    <tr>\n",
       "      <th>25%</th>\n",
       "      <td>27.275000</td>\n",
       "      <td>27.600000</td>\n",
       "      <td>26.940001</td>\n",
       "      <td>27.260000</td>\n",
       "      <td>23.492994</td>\n",
       "      <td>2.206825e+06</td>\n",
       "    </tr>\n",
       "    <tr>\n",
       "      <th>50%</th>\n",
       "      <td>47.980000</td>\n",
       "      <td>48.529999</td>\n",
       "      <td>47.470688</td>\n",
       "      <td>47.950001</td>\n",
       "      <td>43.916996</td>\n",
       "      <td>5.575300e+06</td>\n",
       "    </tr>\n",
       "    <tr>\n",
       "      <th>75%</th>\n",
       "      <td>136.919998</td>\n",
       "      <td>138.177494</td>\n",
       "      <td>135.424996</td>\n",
       "      <td>136.757496</td>\n",
       "      <td>126.081446</td>\n",
       "      <td>1.592658e+07</td>\n",
       "    </tr>\n",
       "    <tr>\n",
       "      <th>max</th>\n",
       "      <td>3564.739990</td>\n",
       "      <td>3588.110107</td>\n",
       "      <td>3535.229980</td>\n",
       "      <td>3580.840088</td>\n",
       "      <td>3580.840088</td>\n",
       "      <td>9.044690e+09</td>\n",
       "    </tr>\n",
       "  </tbody>\n",
       "</table>\n",
       "</div>"
      ],
      "text/plain": [
       "               Open          High           Low         Close     Adj Close  \\\n",
       "count  63642.000000  63642.000000  63642.000000  63642.000000  63642.000000   \n",
       "mean     202.625845    204.254030    200.894797    202.648121    197.820930   \n",
       "std      483.590630    486.680196    480.197251    483.649982    484.672290   \n",
       "min        3.450000      3.880000      3.410000      3.780000      3.642072   \n",
       "25%       27.275000     27.600000     26.940001     27.260000     23.492994   \n",
       "50%       47.980000     48.529999     47.470688     47.950001     43.916996   \n",
       "75%      136.919998    138.177494    135.424996    136.757496    126.081446   \n",
       "max     3564.739990   3588.110107   3535.229980   3580.840088   3580.840088   \n",
       "\n",
       "             Volume  \n",
       "count  6.364200e+04  \n",
       "mean   1.675777e+08  \n",
       "std    7.484939e+08  \n",
       "min    0.000000e+00  \n",
       "25%    2.206825e+06  \n",
       "50%    5.575300e+06  \n",
       "75%    1.592658e+07  \n",
       "max    9.044690e+09  "
      ]
     },
     "execution_count": 22,
     "metadata": {},
     "output_type": "execute_result"
    }
   ],
   "source": [
    "# Checking the describe\n",
    "stocks.describe()"
   ]
  },
  {
   "cell_type": "code",
   "execution_count": 23,
   "id": "ad93eaae",
   "metadata": {},
   "outputs": [
    {
     "data": {
      "text/plain": [
       "Date             object\n",
       "Open            float64\n",
       "High            float64\n",
       "Low             float64\n",
       "Close           float64\n",
       "Adj Close       float64\n",
       "Volume          float64\n",
       "Ticker           object\n",
       "Industry         object\n",
       "Company Name     object\n",
       "dtype: object"
      ]
     },
     "execution_count": 23,
     "metadata": {},
     "output_type": "execute_result"
    }
   ],
   "source": [
    "# checking \n",
    "stocks.dtypes"
   ]
  },
  {
   "cell_type": "code",
   "execution_count": 24,
   "id": "8bf6c910",
   "metadata": {},
   "outputs": [],
   "source": [
    "# Merged and clean data\n",
    "stocks.to_csv('Clean_data.csv')"
   ]
  },
  {
   "cell_type": "code",
   "execution_count": 3,
   "id": "708661cf",
   "metadata": {},
   "outputs": [],
   "source": [
    "# clean_data = stocks.copy() \n",
    "clean_data = pd.read_csv('Clean_data.csv') "
   ]
  },
  {
   "cell_type": "code",
   "execution_count": 4,
   "id": "970bced1",
   "metadata": {},
   "outputs": [],
   "source": [
    "# Convert the 'Date' column to datetime format\n",
    "clean_data['Date'] = pd.to_datetime(clean_data['Date'], format='%d-%m-%Y')\n",
    "\n",
    "# Extract the year from the date\n",
    "clean_data['Year'] = clean_data['Date'].dt.year\n"
   ]
  },
  {
   "cell_type": "code",
   "execution_count": 5,
   "id": "36b23916",
   "metadata": {},
   "outputs": [],
   "source": [
    "# Load the data\n",
    "# file_path_new = 'Clean_data.csv'\n",
    "# clean_data = pd.read_csv(file_path_new)\n",
    "\n",
    "# Replace 'Na' or invalid entries with NaN\n",
    "clean_data.replace('Na', np.nan, inplace=True)\n",
    "\n",
    "# Convert the 'Date' column to datetime format\n",
    "clean_data['Date'] = pd.to_datetime(clean_data['Date'], format='%d-%m-%Y')\n",
    "\n",
    "# Extract the year\n",
    "clean_data['Year'] = clean_data['Date'].dt.year\n",
    "\n",
    "# Ensure 'Adj Close' is numeric and identify problematic values\n",
    "clean_data['Adj Close'] = pd.to_numeric(clean_data['Adj Close'], errors='coerce')\n",
    "\n",
    "# Drop rows with invalid or missing 'Adj Close' values\n",
    "clean_data.dropna(subset=['Adj Close'], inplace=True)\n",
    "\n",
    "# Calculate daily returns\n",
    "clean_data['Daily_Return'] = clean_data.groupby('Ticker')['Adj Close'].pct_change()\n",
    "\n",
    "# Drop rows with NaN in 'Daily_Return'\n",
    "clean_data.dropna(subset=['Daily_Return'], inplace=True)\n",
    "\n"
   ]
  },
  {
   "cell_type": "markdown",
   "id": "924e4132",
   "metadata": {},
   "source": [
    "### 1. Standard Deviation (Volatility)\n",
    "Purpose: Measures the dispersion of returns. A higher standard deviation indicates greater risk.\n"
   ]
  },
  {
   "cell_type": "code",
   "execution_count": 6,
   "id": "d820a106",
   "metadata": {},
   "outputs": [
    {
     "name": "stdout",
     "output_type": "stream",
     "text": [
      "Annualized Volatility:\n",
      "Ticker\n",
      "AAL       0.519460\n",
      "AAPL      0.281065\n",
      "ALGT      0.390170\n",
      "ALk       0.374120\n",
      "AMZN      0.315735\n",
      "            ...   \n",
      "PFE       0.199433\n",
      "RHHBY     0.210723\n",
      "S&P500    0.173574\n",
      "UNH       0.260763\n",
      "WFC       0.290634\n",
      "Name: Daily_Return, Length: 25, dtype: float64\n"
     ]
    }
   ],
   "source": [
    "# Calculate annualized volatility\n",
    "volatility = clean_data.groupby('Ticker')['Daily_Return'].std() * np.sqrt(252)\n",
    "\n",
    "# Display the volatility\n",
    "print(\"Annualized Volatility:\")\n",
    "print(volatility)\n"
   ]
  },
  {
   "cell_type": "markdown",
   "id": "14f9cc1b",
   "metadata": {},
   "source": [
    "### 2. Sharpe Ratio\n",
    "- Purpose: Measures the risk-adjusted return. A higher Sharpe ratio indicates   better returns per unit of risk.\n",
    "- Formula: Sharpe Ratio = (Average Return − Risk-Free Rate)/Standard Deviation\n",
    "\n",
    " \n"
   ]
  },
  {
   "cell_type": "code",
   "execution_count": 7,
   "id": "c5268710",
   "metadata": {},
   "outputs": [],
   "source": [
    "# Sharpe Ratio: Risk-adjusted return\n",
    "risk_free_rate = 0.02  # Assume a 2% risk-free rate\n",
    "average_daily_return = clean_data.groupby('Ticker')['Daily_Return'].mean()\n",
    "sharpe_ratio = (average_daily_return - (risk_free_rate / 252)) / clean_data.groupby('Ticker')['Daily_Return'].std()"
   ]
  },
  {
   "cell_type": "markdown",
   "id": "cb3b0d44",
   "metadata": {},
   "source": [
    "### 3. Beta (Market Risk)\n",
    "- Purpose: Measures a stock's sensitivity to market movements. A beta > 1       indicates the stock is more volatile than the market."
   ]
  },
  {
   "cell_type": "code",
   "execution_count": 8,
   "id": "a841c9cf",
   "metadata": {},
   "outputs": [],
   "source": [
    "# Beta: Sensitivity to market movements\n",
    "market_returns = clean_data[clean_data['Ticker'] == 'S&P500'][['Date', 'Daily_Return']].dropna()\n",
    "beta_values = {}\n",
    "\n",
    "for ticker in clean_data['Ticker'].unique():\n",
    "    # Get stock returns for the ticker\n",
    "    stock_data = clean_data[clean_data['Ticker'] == ticker][['Date', 'Daily_Return']].dropna()\n",
    "    \n",
    "    # Merge with market returns to ensure matching dates\n",
    "    merged_data = pd.merge(stock_data, market_returns, on='Date', suffixes=('_stock', '_market'))\n",
    "    \n",
    "    if len(merged_data) > 1:  # Ensure there is enough data to calculate covariance\n",
    "        # Calculate covariance and variance\n",
    "        covariance = np.cov(merged_data['Daily_Return_stock'], merged_data['Daily_Return_market'])[0, 1]\n",
    "        market_variance = np.var(merged_data['Daily_Return_market'])\n",
    "        \n",
    "        # Compute beta\n",
    "        beta_values[ticker] = covariance / market_variance\n",
    "\n",
    "# Convert beta values to a DataFrame\n",
    "beta = pd.Series(beta_values, name='Beta')\n"
   ]
  },
  {
   "cell_type": "markdown",
   "id": "bc8d36e7",
   "metadata": {},
   "source": [
    " ### 4. Cumulative return :\n",
    " - Cumulative Return is the total change in the value of an investment over a specific period, expressed as a percentage of the initial value. It measures the overall    performance of an asset, stock, or portfolio by considering all compounding gains or losses. \n",
    "    "
   ]
  },
  {
   "cell_type": "code",
   "execution_count": 9,
   "id": "3d163dbd",
   "metadata": {},
   "outputs": [],
   "source": [
    "# Compute cumulative returns over 5 years for each stock\n",
    "yearly_data = clean_data.groupby(['Ticker', 'Year'])['Adj Close'].last().unstack()\n",
    "yearly_returns = yearly_data.pct_change(axis=1) * 100\n",
    "cumulative_returns = ((yearly_returns / 100 + 1).prod(axis=1) - 1) * 100\n"
   ]
  },
  {
   "cell_type": "code",
   "execution_count": 11,
   "id": "4126f1e6",
   "metadata": {},
   "outputs": [],
   "source": [
    "# Combine all metrics into a single DataFrame\n",
    "metrics_df = pd.DataFrame({\n",
    "    'Cumulative_Return': cumulative_returns,\n",
    "    'Volatility': volatility,\n",
    "    'Sharpe_Ratio': sharpe_ratio,\n",
    "    'Beta': beta\n",
    "}).dropna()"
   ]
  },
  {
   "cell_type": "code",
   "execution_count": 12,
   "id": "85b3c8b1",
   "metadata": {},
   "outputs": [],
   "source": [
    "# Add industry information\n",
    "industry_info = clean_data[['Ticker', 'Industry']].drop_duplicates()\n",
    "metrics_df = metrics_df.merge(industry_info, left_index=True, right_on='Ticker')"
   ]
  },
  {
   "cell_type": "markdown",
   "id": "a487577a",
   "metadata": {},
   "source": [
    "#### Patrick  "
   ]
  },
  {
   "cell_type": "code",
   "execution_count": 13,
   "id": "af0dc42a",
   "metadata": {},
   "outputs": [],
   "source": [
    "# Define thresholds for selection\n",
    "moderate_risk_threshold = 300  # For cumulative returns\n",
    "high_volatility_threshold = 0.3  # Volatility threshold for high risk\n",
    "high_sharpe_ratio = 1.0         # High Sharpe ratio indicates good risk-adjusted returns\n",
    "\n",
    "patrick_stocks =  metrics_df[\n",
    "    (metrics_df['Cumulative_Return'] < moderate_risk_threshold) &\n",
    "    (metrics_df['Volatility'] < high_volatility_threshold) &\n",
    "    (metrics_df['Sharpe_Ratio'] < high_sharpe_ratio)]\n",
    "\n",
    "patrick_sectors = patrick_stocks.groupby(by=['Industry'])['Cumulative_Return'].mean().sort_values(ascending=False).reset_index()"
   ]
  },
  {
   "cell_type": "code",
   "execution_count": 14,
   "id": "963523c5",
   "metadata": {},
   "outputs": [],
   "source": [
    "# Adjusted thresholds for Peter Jyenger\n",
    "moderate_risk_threshold = 150  # Include stocks with cumulative returns > 150%\n",
    "high_volatility_threshold = 0.2  # Include stocks with volatility > 0.2\n",
    "high_beta_threshold = 0.8       # Include stocks with beta > 0.8\n",
    "\n",
    "# Selection criteria for Mr. Peter Jyenger (High Risk)\n",
    "peter_stocks = metrics_df[\n",
    "    (metrics_df['Cumulative_Return'] > moderate_risk_threshold) &\n",
    "    (metrics_df['Volatility'] > high_volatility_threshold) &\n",
    "    (metrics_df['Beta'] > high_beta_threshold)]\n",
    "\n",
    "peter_sectors = peter_stocks.groupby(by=['Industry'])['Cumulative_Return'].mean().sort_values(ascending=False).reset_index()"
   ]
  },
  {
   "cell_type": "code",
   "execution_count": 133,
   "id": "44473e21",
   "metadata": {
    "collapsed": true
   },
   "outputs": [
    {
     "name": "stdout",
     "output_type": "stream",
     "text": [
      "Portfolio for Mr. Patrick Jyenger (Moderate Risk - Stocks):\n",
      "       Cumulative_Return  Volatility  Sharpe_Ratio      Beta  Ticker  \\\n",
      "23218          38.523849    0.293950      0.011118  1.301993      GS   \n",
      "56092          15.234862    0.223984      0.007804  0.916665     IBM   \n",
      "31333         220.580142    0.171613      0.041288  0.664219     JNJ   \n",
      "33850         219.931601    0.206535      0.035783  0.736929     MRK   \n",
      "36367         199.478434    0.199433      0.035601  0.750980     PFE   \n",
      "43918         277.195082    0.210723      0.041972  0.662678   RHHBY   \n",
      "61126         167.405614    0.173574      0.037369  1.000398  S&P500   \n",
      "28628           1.295549    0.290634      0.007791  1.254250     WFC   \n",
      "\n",
      "              Industry  \n",
      "23218          Finance  \n",
      "56092       Technology  \n",
      "31333       Healthcare  \n",
      "33850       Healthcare  \n",
      "36367       Healthcare  \n",
      "43918  Pharmaceuticals  \n",
      "61126           S&P500  \n",
      "28628          Finance  \n",
      "\n",
      "Portfolio for Mr. Patrick Jyenger (Moderate Risk - Sectors):\n",
      "          Industry  Cumulative_Return\n",
      "0  Pharmaceuticals         277.195082\n",
      "1       Healthcare         213.330059\n",
      "2           S&P500         167.405614\n",
      "3          Finance          19.909699\n",
      "4       Technology          15.234862\n",
      "\n",
      "Portfolio for Mr. Peter Jyenger (High Risk - Stocks):\n",
      "       Cumulative_Return  Volatility  Sharpe_Ratio      Beta Ticker  \\\n",
      "46435        1063.348660    0.281065      0.062474  1.063534   AAPL   \n",
      "2518          186.071811    0.390170      0.028296  1.103261   ALGT   \n",
      "5035          193.206291    0.374120      0.028871  1.232457    ALk   \n",
      "48952        1649.294433    0.315735      0.066279  0.999199   AMZN   \n",
      "7552          173.218624    0.405256      0.026158  1.235326    DAL   \n",
      "51469         883.846672    0.374140      0.047085  1.051391     FB   \n",
      "53575         396.694592    0.258561      0.045322  1.013741   GOOG   \n",
      "12586         210.943237    0.325067      0.028489  1.040777    LUV   \n",
      "58609         845.367325    0.255326      0.062138  1.105691   MSFT   \n",
      "38884         908.610993    0.260763      0.059886  1.001183    UNH   \n",
      "\n",
      "         Industry  \n",
      "46435  Technology  \n",
      "2518     Aviation  \n",
      "5035       S&P500  \n",
      "48952  Technology  \n",
      "7552     Aviation  \n",
      "51469  Technology  \n",
      "53575  Technology  \n",
      "12586    Aviation  \n",
      "58609  Technology  \n",
      "38884      S&P500  \n",
      "\n",
      "Portfolio for Mr. Peter Jyenger (High Risk - Sectors):\n",
      "     Industry  Cumulative_Return\n",
      "0  Technology         967.710336\n",
      "1      S&P500         550.908642\n",
      "2    Aviation         190.077891\n"
     ]
    }
   ],
   "source": [
    "# Display the results\n",
    "print(\"Portfolio for Mr. Patrick Jyenger (Moderate Risk - Stocks):\")\n",
    "print(patrick_stocks)\n",
    "\n",
    "print(\"\\nPortfolio for Mr. Patrick Jyenger (Moderate Risk - Sectors):\")\n",
    "print(patrick_sectors)\n",
    "\n",
    "print(\"\\nPortfolio for Mr. Peter Jyenger (High Risk - Stocks):\")\n",
    "print(peter_stocks)\n",
    "\n",
    "print(\"\\nPortfolio for Mr. Peter Jyenger (High Risk - Sectors):\")\n",
    "print(peter_sectors)\n"
   ]
  },
  {
   "cell_type": "code",
   "execution_count": 19,
   "id": "c39a03e4",
   "metadata": {},
   "outputs": [],
   "source": []
  },
  {
   "cell_type": "code",
   "execution_count": null,
   "id": "0ffb23c7",
   "metadata": {},
   "outputs": [],
   "source": []
  }
 ],
 "metadata": {
  "kernelspec": {
   "display_name": "Python 3 (ipykernel)",
   "language": "python",
   "name": "python3"
  },
  "language_info": {
   "codemirror_mode": {
    "name": "ipython",
    "version": 3
   },
   "file_extension": ".py",
   "mimetype": "text/x-python",
   "name": "python",
   "nbconvert_exporter": "python",
   "pygments_lexer": "ipython3",
   "version": "3.9.12"
  }
 },
 "nbformat": 4,
 "nbformat_minor": 5
}
